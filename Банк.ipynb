{
 "cells": [
  {
   "cell_type": "markdown",
   "metadata": {
    "toc": true
   },
   "source": [
    "<h1>Содержание<span class=\"tocSkip\"></span></h1>\n",
    "<div class=\"toc\"><ul class=\"toc-item\"><li><span><a href=\"#Подготовка-данных\" data-toc-modified-id=\"Подготовка-данных-1\"><span class=\"toc-item-num\">1&nbsp;&nbsp;</span>Подготовка данных</a></span><ul class=\"toc-item\"><li><span><a href=\"#Ознакомление-с-данными\" data-toc-modified-id=\"Ознакомление-с-данными-1.1\"><span class=\"toc-item-num\">1.1&nbsp;&nbsp;</span>Ознакомление с данными</a></span></li><li><span><a href=\"#Подготовка-и-разбиение-на-выборки\" data-toc-modified-id=\"Подготовка-и-разбиение-на-выборки-1.2\"><span class=\"toc-item-num\">1.2&nbsp;&nbsp;</span>Подготовка и разбиение на выборки</a></span></li></ul></li><li><span><a href=\"#Исследование-задачи\" data-toc-modified-id=\"Исследование-задачи-2\"><span class=\"toc-item-num\">2&nbsp;&nbsp;</span>Исследование задачи</a></span><ul class=\"toc-item\"><li><ul class=\"toc-item\"><li><span><a href=\"#Блок-модели-Случайный-Лес\" data-toc-modified-id=\"Блок-модели-Случайный-Лес-2.0.1\"><span class=\"toc-item-num\">2.0.1&nbsp;&nbsp;</span>Блок модели Случайный Лес</a></span></li><li><span><a href=\"#Блок-модели-Логистическая-Регрессия\" data-toc-modified-id=\"Блок-модели-Логистическая-Регрессия-2.0.2\"><span class=\"toc-item-num\">2.0.2&nbsp;&nbsp;</span>Блок модели Логистическая Регрессия</a></span></li><li><span><a href=\"#Сравним-результаты-на-тестовой-выборке\" data-toc-modified-id=\"Сравним-результаты-на-тестовой-выборке-2.0.3\"><span class=\"toc-item-num\">2.0.3&nbsp;&nbsp;</span>Сравним результаты на тестовой выборке</a></span></li></ul></li></ul></li><li><span><a href=\"#Борьба-с-дисбалансом\" data-toc-modified-id=\"Борьба-с-дисбалансом-3\"><span class=\"toc-item-num\">3&nbsp;&nbsp;</span>Борьба с дисбалансом</a></span><ul class=\"toc-item\"><li><ul class=\"toc-item\"><li><span><a href=\"#Блок-пользовательских-функций\" data-toc-modified-id=\"Блок-пользовательских-функций-3.0.1\"><span class=\"toc-item-num\">3.0.1&nbsp;&nbsp;</span>Блок пользовательских функций</a></span></li><li><span><a href=\"#Способ-1\" data-toc-modified-id=\"Способ-1-3.0.2\"><span class=\"toc-item-num\">3.0.2&nbsp;&nbsp;</span>Способ 1</a></span></li><li><span><a href=\"#Способ-2\" data-toc-modified-id=\"Способ-2-3.0.3\"><span class=\"toc-item-num\">3.0.3&nbsp;&nbsp;</span>Способ 2</a></span></li><li><span><a href=\"#Способ-3\" data-toc-modified-id=\"Способ-3-3.0.4\"><span class=\"toc-item-num\">3.0.4&nbsp;&nbsp;</span>Способ 3</a></span></li></ul></li></ul></li><li><span><a href=\"#Тестирование-модели\" data-toc-modified-id=\"Тестирование-модели-4\"><span class=\"toc-item-num\">4&nbsp;&nbsp;</span>Тестирование модели</a></span></li><li><span><a href=\"#Чек-лист-готовности-проекта\" data-toc-modified-id=\"Чек-лист-готовности-проекта-5\"><span class=\"toc-item-num\">5&nbsp;&nbsp;</span>Чек-лист готовности проекта</a></span></li></ul></div>"
   ]
  },
  {
   "cell_type": "markdown",
   "metadata": {},
   "source": [
    "# Отток клиентов"
   ]
  },
  {
   "cell_type": "markdown",
   "metadata": {},
   "source": [
    "Из «Бета-Банка» стали уходить клиенты. Каждый месяц. Немного, но заметно. Банковские маркетологи посчитали: сохранять текущих клиентов дешевле, чем привлекать новых.\n",
    "\n",
    "Нужно спрогнозировать, уйдёт клиент из банка в ближайшее время или нет. Вам предоставлены исторические данные о поведении клиентов и расторжении договоров с банком. \n",
    "\n",
    "Постройте модель с предельно большим значением *F1*-меры. Чтобы сдать проект успешно, нужно довести метрику до 0.59. Проверьте *F1*-меру на тестовой выборке самостоятельно.\n",
    "\n",
    "Дополнительно измеряйте *AUC-ROC*, сравнивайте её значение с *F1*-мерой.\n",
    "\n",
    "Источник данных: [https://www.kaggle.com/barelydedicated/bank-customer-churn-modeling](https://www.kaggle.com/barelydedicated/bank-customer-churn-modeling)"
   ]
  },
  {
   "cell_type": "markdown",
   "metadata": {},
   "source": [
    "## Подготовка данных"
   ]
  },
  {
   "cell_type": "code",
   "execution_count": 1,
   "metadata": {},
   "outputs": [],
   "source": [
    "import pandas as pd\n",
    "import matplotlib.pyplot as plt\n",
    "from sklearn.ensemble import RandomForestClassifier\n",
    "from sklearn.linear_model import LogisticRegression\n",
    "from sklearn.tree import DecisionTreeClassifier \n",
    "from sklearn.model_selection import train_test_split\n",
    "from sklearn.preprocessing import StandardScaler\n",
    "from sklearn.metrics import roc_auc_score\n",
    "from sklearn.metrics import f1_score\n",
    "from sklearn.utils import shuffle\n",
    "pd.options.mode.chained_assignment = None # В VS Code почему-то считается чем то зазорным писать значения через срезы. Что в этом плохого, не ясно. Уберу предупреждение об этом.\n",
    "from sklearn.preprocessing import OneHotEncoder\n",
    "from sklearn.compose import make_column_transformer\n",
    "from sklearn.metrics import confusion_matrix"
   ]
  },
  {
   "cell_type": "code",
   "execution_count": 12,
   "metadata": {},
   "outputs": [],
   "source": [
    "#Сделаю, чтобы данные подгружались как на локальной машине, так и на сервере\n",
    "try:\n",
    "    data_full = pd.read_csv('/datasets/Churn.csv')\n",
    "except:\n",
    "    data_full = pd.read_csv(r\"C:\\project_3\\Churn.csv\")"
   ]
  },
  {
   "cell_type": "markdown",
   "metadata": {},
   "source": [
    "### Ознакомление с данными"
   ]
  },
  {
   "cell_type": "code",
   "execution_count": null,
   "metadata": {},
   "outputs": [
    {
     "name": "stdout",
     "output_type": "stream",
     "text": [
      "<class 'pandas.core.frame.DataFrame'>\n",
      "RangeIndex: 10000 entries, 0 to 9999\n",
      "Data columns (total 14 columns):\n",
      " #   Column           Non-Null Count  Dtype  \n",
      "---  ------           --------------  -----  \n",
      " 0   RowNumber        10000 non-null  int64  \n",
      " 1   CustomerId       10000 non-null  int64  \n",
      " 2   Surname          10000 non-null  object \n",
      " 3   CreditScore      10000 non-null  int64  \n",
      " 4   Geography        10000 non-null  object \n",
      " 5   Gender           10000 non-null  object \n",
      " 6   Age              10000 non-null  int64  \n",
      " 7   Tenure           9091 non-null   float64\n",
      " 8   Balance          10000 non-null  float64\n",
      " 9   NumOfProducts    10000 non-null  int64  \n",
      " 10  HasCrCard        10000 non-null  int64  \n",
      " 11  IsActiveMember   10000 non-null  int64  \n",
      " 12  EstimatedSalary  10000 non-null  float64\n",
      " 13  Exited           10000 non-null  int64  \n",
      "dtypes: float64(3), int64(8), object(3)\n",
      "memory usage: 1.1+ MB\n"
     ]
    },
    {
     "data": {
      "text/html": [
       "<div>\n",
       "<style scoped>\n",
       "    .dataframe tbody tr th:only-of-type {\n",
       "        vertical-align: middle;\n",
       "    }\n",
       "\n",
       "    .dataframe tbody tr th {\n",
       "        vertical-align: top;\n",
       "    }\n",
       "\n",
       "    .dataframe thead th {\n",
       "        text-align: right;\n",
       "    }\n",
       "</style>\n",
       "<table border=\"1\" class=\"dataframe\">\n",
       "  <thead>\n",
       "    <tr style=\"text-align: right;\">\n",
       "      <th></th>\n",
       "      <th>RowNumber</th>\n",
       "      <th>CustomerId</th>\n",
       "      <th>Surname</th>\n",
       "      <th>CreditScore</th>\n",
       "      <th>Geography</th>\n",
       "      <th>Gender</th>\n",
       "      <th>Age</th>\n",
       "      <th>Tenure</th>\n",
       "      <th>Balance</th>\n",
       "      <th>NumOfProducts</th>\n",
       "      <th>HasCrCard</th>\n",
       "      <th>IsActiveMember</th>\n",
       "      <th>EstimatedSalary</th>\n",
       "      <th>Exited</th>\n",
       "    </tr>\n",
       "  </thead>\n",
       "  <tbody>\n",
       "    <tr>\n",
       "      <th>0</th>\n",
       "      <td>1</td>\n",
       "      <td>15634602</td>\n",
       "      <td>Hargrave</td>\n",
       "      <td>619</td>\n",
       "      <td>France</td>\n",
       "      <td>Female</td>\n",
       "      <td>42</td>\n",
       "      <td>2.0</td>\n",
       "      <td>0.00</td>\n",
       "      <td>1</td>\n",
       "      <td>1</td>\n",
       "      <td>1</td>\n",
       "      <td>101348.88</td>\n",
       "      <td>1</td>\n",
       "    </tr>\n",
       "    <tr>\n",
       "      <th>1</th>\n",
       "      <td>2</td>\n",
       "      <td>15647311</td>\n",
       "      <td>Hill</td>\n",
       "      <td>608</td>\n",
       "      <td>Spain</td>\n",
       "      <td>Female</td>\n",
       "      <td>41</td>\n",
       "      <td>1.0</td>\n",
       "      <td>83807.86</td>\n",
       "      <td>1</td>\n",
       "      <td>0</td>\n",
       "      <td>1</td>\n",
       "      <td>112542.58</td>\n",
       "      <td>0</td>\n",
       "    </tr>\n",
       "    <tr>\n",
       "      <th>2</th>\n",
       "      <td>3</td>\n",
       "      <td>15619304</td>\n",
       "      <td>Onio</td>\n",
       "      <td>502</td>\n",
       "      <td>France</td>\n",
       "      <td>Female</td>\n",
       "      <td>42</td>\n",
       "      <td>8.0</td>\n",
       "      <td>159660.80</td>\n",
       "      <td>3</td>\n",
       "      <td>1</td>\n",
       "      <td>0</td>\n",
       "      <td>113931.57</td>\n",
       "      <td>1</td>\n",
       "    </tr>\n",
       "    <tr>\n",
       "      <th>3</th>\n",
       "      <td>4</td>\n",
       "      <td>15701354</td>\n",
       "      <td>Boni</td>\n",
       "      <td>699</td>\n",
       "      <td>France</td>\n",
       "      <td>Female</td>\n",
       "      <td>39</td>\n",
       "      <td>1.0</td>\n",
       "      <td>0.00</td>\n",
       "      <td>2</td>\n",
       "      <td>0</td>\n",
       "      <td>0</td>\n",
       "      <td>93826.63</td>\n",
       "      <td>0</td>\n",
       "    </tr>\n",
       "    <tr>\n",
       "      <th>4</th>\n",
       "      <td>5</td>\n",
       "      <td>15737888</td>\n",
       "      <td>Mitchell</td>\n",
       "      <td>850</td>\n",
       "      <td>Spain</td>\n",
       "      <td>Female</td>\n",
       "      <td>43</td>\n",
       "      <td>2.0</td>\n",
       "      <td>125510.82</td>\n",
       "      <td>1</td>\n",
       "      <td>1</td>\n",
       "      <td>1</td>\n",
       "      <td>79084.10</td>\n",
       "      <td>0</td>\n",
       "    </tr>\n",
       "    <tr>\n",
       "      <th>5</th>\n",
       "      <td>6</td>\n",
       "      <td>15574012</td>\n",
       "      <td>Chu</td>\n",
       "      <td>645</td>\n",
       "      <td>Spain</td>\n",
       "      <td>Male</td>\n",
       "      <td>44</td>\n",
       "      <td>8.0</td>\n",
       "      <td>113755.78</td>\n",
       "      <td>2</td>\n",
       "      <td>1</td>\n",
       "      <td>0</td>\n",
       "      <td>149756.71</td>\n",
       "      <td>1</td>\n",
       "    </tr>\n",
       "    <tr>\n",
       "      <th>6</th>\n",
       "      <td>7</td>\n",
       "      <td>15592531</td>\n",
       "      <td>Bartlett</td>\n",
       "      <td>822</td>\n",
       "      <td>France</td>\n",
       "      <td>Male</td>\n",
       "      <td>50</td>\n",
       "      <td>7.0</td>\n",
       "      <td>0.00</td>\n",
       "      <td>2</td>\n",
       "      <td>1</td>\n",
       "      <td>1</td>\n",
       "      <td>10062.80</td>\n",
       "      <td>0</td>\n",
       "    </tr>\n",
       "    <tr>\n",
       "      <th>7</th>\n",
       "      <td>8</td>\n",
       "      <td>15656148</td>\n",
       "      <td>Obinna</td>\n",
       "      <td>376</td>\n",
       "      <td>Germany</td>\n",
       "      <td>Female</td>\n",
       "      <td>29</td>\n",
       "      <td>4.0</td>\n",
       "      <td>115046.74</td>\n",
       "      <td>4</td>\n",
       "      <td>1</td>\n",
       "      <td>0</td>\n",
       "      <td>119346.88</td>\n",
       "      <td>1</td>\n",
       "    </tr>\n",
       "    <tr>\n",
       "      <th>8</th>\n",
       "      <td>9</td>\n",
       "      <td>15792365</td>\n",
       "      <td>He</td>\n",
       "      <td>501</td>\n",
       "      <td>France</td>\n",
       "      <td>Male</td>\n",
       "      <td>44</td>\n",
       "      <td>4.0</td>\n",
       "      <td>142051.07</td>\n",
       "      <td>2</td>\n",
       "      <td>0</td>\n",
       "      <td>1</td>\n",
       "      <td>74940.50</td>\n",
       "      <td>0</td>\n",
       "    </tr>\n",
       "    <tr>\n",
       "      <th>9</th>\n",
       "      <td>10</td>\n",
       "      <td>15592389</td>\n",
       "      <td>H?</td>\n",
       "      <td>684</td>\n",
       "      <td>France</td>\n",
       "      <td>Male</td>\n",
       "      <td>27</td>\n",
       "      <td>2.0</td>\n",
       "      <td>134603.88</td>\n",
       "      <td>1</td>\n",
       "      <td>1</td>\n",
       "      <td>1</td>\n",
       "      <td>71725.73</td>\n",
       "      <td>0</td>\n",
       "    </tr>\n",
       "  </tbody>\n",
       "</table>\n",
       "</div>"
      ],
      "text/plain": [
       "   RowNumber  CustomerId   Surname  CreditScore Geography  Gender  Age  \\\n",
       "0          1    15634602  Hargrave          619    France  Female   42   \n",
       "1          2    15647311      Hill          608     Spain  Female   41   \n",
       "2          3    15619304      Onio          502    France  Female   42   \n",
       "3          4    15701354      Boni          699    France  Female   39   \n",
       "4          5    15737888  Mitchell          850     Spain  Female   43   \n",
       "5          6    15574012       Chu          645     Spain    Male   44   \n",
       "6          7    15592531  Bartlett          822    France    Male   50   \n",
       "7          8    15656148    Obinna          376   Germany  Female   29   \n",
       "8          9    15792365        He          501    France    Male   44   \n",
       "9         10    15592389        H?          684    France    Male   27   \n",
       "\n",
       "   Tenure    Balance  NumOfProducts  HasCrCard  IsActiveMember  \\\n",
       "0     2.0       0.00              1          1               1   \n",
       "1     1.0   83807.86              1          0               1   \n",
       "2     8.0  159660.80              3          1               0   \n",
       "3     1.0       0.00              2          0               0   \n",
       "4     2.0  125510.82              1          1               1   \n",
       "5     8.0  113755.78              2          1               0   \n",
       "6     7.0       0.00              2          1               1   \n",
       "7     4.0  115046.74              4          1               0   \n",
       "8     4.0  142051.07              2          0               1   \n",
       "9     2.0  134603.88              1          1               1   \n",
       "\n",
       "   EstimatedSalary  Exited  \n",
       "0        101348.88       1  \n",
       "1        112542.58       0  \n",
       "2        113931.57       1  \n",
       "3         93826.63       0  \n",
       "4         79084.10       0  \n",
       "5        149756.71       1  \n",
       "6         10062.80       0  \n",
       "7        119346.88       1  \n",
       "8         74940.50       0  \n",
       "9         71725.73       0  "
      ]
     },
     "execution_count": 125,
     "metadata": {},
     "output_type": "execute_result"
    }
   ],
   "source": [
    "data_full.info()\n",
    "data_full.head(10)"
   ]
  },
  {
   "cell_type": "markdown",
   "metadata": {},
   "source": [
    "Пропусков почти нет, типы корректны.   \n",
    "Имеющиеся 9 пропусков в поле Tenure (сколько лет человек клиент банка) для корректной работы моделей заполню нулями.\n",
    " \n",
    "Уникальный номер клиента обеспечивает отсутствие скрытых дубликатов.  \n",
    "Проверю на дубликаты столбец с идентефикационным номером клиента. Если номера не повторяются, то дубликатов нет."
   ]
  },
  {
   "cell_type": "markdown",
   "metadata": {},
   "source": [
    "Подробнее посмотрю на вопрос с пропусками в Tenure"
   ]
  },
  {
   "cell_type": "code",
   "execution_count": null,
   "metadata": {},
   "outputs": [
    {
     "name": "stdout",
     "output_type": "stream",
     "text": [
      "Доля пропусков: 9.999%\n",
      "Медиана: 5.0\n",
      "Среднее: 5.0\n",
      "Мода: 0    1.0\n",
      "dtype: float64\n"
     ]
    }
   ],
   "source": [
    "print(f\"Доля пропусков: {data_full['Tenure'].isna().sum()/data_full['Tenure'].count():.3%}\")\n",
    "print(f\"Медиана: {data_full['Tenure'].median()}\")\n",
    "print(f\"Среднее: {data_full['Tenure'].mean():.3}\")\n",
    "print(f\"Мода: {data_full['Tenure'].mode()}\")"
   ]
  },
  {
   "cell_type": "code",
   "execution_count": null,
   "metadata": {},
   "outputs": [
    {
     "data": {
      "image/png": "[encoded data removed]",
      "text/plain": [
       "<Figure size 600x300 with 1 Axes>"
      ]
     },
     "metadata": {},
     "output_type": "display_data"
    }
   ],
   "source": [
    "#Посмотрю частоту значение в столбце Tenure\n",
    "data_full['Tenure'].dropna().hist(bins=20,figsize=(6,3)); #без принудительной установки корзин строит некорретно"
   ]
  },
  {
   "cell_type": "code",
   "execution_count": null,
   "metadata": {},
   "outputs": [
    {
     "name": "stdout",
     "output_type": "stream",
     "text": [
      "-0.013134384930796522\n",
      "0.010519878955962176\n",
      "-0.00791069799207847\n"
     ]
    },
    {
     "data": {
      "text/plain": [
       "0.011978980549193174"
      ]
     },
     "execution_count": 128,
     "metadata": {},
     "output_type": "execute_result"
    }
   ],
   "source": [
    "#Проверю корреляцию Tenure с другими колличесвенными признаками\n",
    "#Увы, её нет ни с одним количественным признаком\n",
    "print(data_full['Tenure'].corr(data_full['Age']))\n",
    "print(data_full['Tenure'].corr(data_full['EstimatedSalary']))\n",
    "print(data_full['Tenure'].corr(data_full['Balance']))\n",
    "data_full['Tenure'].corr(data_full['NumOfProducts'])"
   ]
  },
  {
   "cell_type": "code",
   "execution_count": null,
   "metadata": {},
   "outputs": [
    {
     "data": {
      "text/plain": [
       "10000"
      ]
     },
     "execution_count": 129,
     "metadata": {},
     "output_type": "execute_result"
    }
   ],
   "source": [
    "#Заполню пропуски медианой и проверю\n",
    "data_full['Tenure'].fillna(data_full['Tenure'].median(),inplace=True);\n",
    "len(data_full['Tenure'])"
   ]
  },
  {
   "cell_type": "code",
   "execution_count": null,
   "metadata": {},
   "outputs": [
    {
     "name": "stdout",
     "output_type": "stream",
     "text": [
      "10000\n"
     ]
    }
   ],
   "source": [
    "#Действительно, ли они все номера клиентов уникальны\n",
    "print(len(data_full['CustomerId'].unique()))"
   ]
  },
  {
   "cell_type": "markdown",
   "metadata": {},
   "source": [
    "### Подготовка и разбиение на выборки"
   ]
  },
  {
   "cell_type": "markdown",
   "metadata": {},
   "source": [
    "Думаю, что 3 признака (Индекс строки в данных, Идентификатор клиента и Фамилия) не влияют на целевой признак.  \n",
    "Уберу их из данных, чтобы избежать шумов. "
   ]
  },
  {
   "cell_type": "code",
   "execution_count": null,
   "metadata": {},
   "outputs": [],
   "source": [
    "data = data_full.drop(columns=['RowNumber', 'CustomerId', 'Surname'])"
   ]
  },
  {
   "cell_type": "markdown",
   "metadata": {},
   "source": [
    "Переведу категориальные признаки в числовые методом OHE"
   ]
  },
  {
   "cell_type": "code",
   "execution_count": null,
   "metadata": {},
   "outputs": [],
   "source": [
    "# Взял дефолтное решение без дамми ловушки (отбросил первый столбец)\n",
    "data_ohe = pd.get_dummies(data, drop_first=True)"
   ]
  },
  {
   "cell_type": "code",
   "execution_count": null,
   "metadata": {},
   "outputs": [],
   "source": [
    "#Вариант решения через OneHotEncoder закоментил, после разбиения он не работает.\n",
    "#transformer_OHE = make_column_transformer((OneHotEncoder(drop='first'), ['Gender','Geography']), remainder='passthrough')\n",
    "#transformed = transformer_OHE.fit_transform(data)\n",
    "#data_ohe = pd.DataFrame(transformed, columns=transformer_OHE.get_feature_names())"
   ]
  },
  {
   "cell_type": "code",
   "execution_count": null,
   "metadata": {},
   "outputs": [],
   "source": [
    "features = data_ohe.drop(columns='Exited')\n",
    "target = data_ohe['Exited']"
   ]
  },
  {
   "cell_type": "markdown",
   "metadata": {},
   "source": [
    "Разделю набор 2 раза, чтобы получить обучающий/валидационный/тестовый наборы в отношении 3/1/1\n",
    "Сделаю это за 2 вызова train_test_split"
   ]
  },
  {
   "cell_type": "code",
   "execution_count": null,
   "metadata": {},
   "outputs": [],
   "source": [
    "features, features_train, target, target_train = train_test_split(features, target, test_size=0.6, random_state=12345, stratify=target)\n",
    "features_test, features_valid, target_test, target_valid = train_test_split(features, target, test_size=0.5, random_state=12345, stratify=target)"
   ]
  },
  {
   "cell_type": "markdown",
   "metadata": {},
   "source": [
    "Проверю разбиение на выборки.  \n",
    "Всё хорошо: баланс одинаковый во всех выборках, размеры выборок соответсвуют"
   ]
  },
  {
   "cell_type": "code",
   "execution_count": null,
   "metadata": {},
   "outputs": [
    {
     "name": "stdout",
     "output_type": "stream",
     "text": [
      "0    0.796333\n",
      "1    0.203667\n",
      "Name: Exited, dtype: float64\n",
      "0    0.7965\n",
      "1    0.2035\n",
      "Name: Exited, dtype: float64\n"
     ]
    },
    {
     "data": {
      "text/plain": [
       "0    0.796\n",
       "1    0.204\n",
       "Name: Exited, dtype: float64"
      ]
     },
     "execution_count": 136,
     "metadata": {},
     "output_type": "execute_result"
    }
   ],
   "source": [
    "print(target_train.value_counts(normalize = True))\n",
    "print(target_valid.value_counts(normalize = True))\n",
    "target_test.value_counts(normalize = True)"
   ]
  },
  {
   "cell_type": "code",
   "execution_count": null,
   "metadata": {},
   "outputs": [
    {
     "name": "stdout",
     "output_type": "stream",
     "text": [
      "(6000,)\n",
      "(2000,)\n",
      "(2000,)\n",
      "(6000, 11)\n",
      "(2000, 11)\n",
      "(2000, 11)\n"
     ]
    }
   ],
   "source": [
    "print(target_train.shape)\n",
    "print(target_valid.shape)\n",
    "print(target_test.shape)\n",
    "print(features_train.shape)\n",
    "print(features_valid.shape)\n",
    "print(features_test.shape)"
   ]
  },
  {
   "cell_type": "markdown",
   "metadata": {},
   "source": [
    "Приведу числовые признаки к одинаковому масштабу"
   ]
  },
  {
   "cell_type": "code",
   "execution_count": null,
   "metadata": {},
   "outputs": [],
   "source": [
    "#Для начала выберу какие признаки числовые и их нужно обработать\n",
    "numeric = ['EstimatedSalary', 'NumOfProducts', 'Balance', 'Tenure', 'Age', 'CreditScore']\n",
    "\n",
    "scaler = StandardScaler()\n",
    "scaler.fit(features_train[numeric])\n",
    "features_train[numeric] = scaler.transform(features_train[numeric])\n",
    "features_valid[numeric] = scaler.transform(features_valid[numeric])\n",
    "features_test[numeric] = scaler.transform(features_test[numeric])"
   ]
  },
  {
   "cell_type": "code",
   "execution_count": null,
   "metadata": {},
   "outputs": [
    {
     "data": {
      "text/html": [
       "<div>\n",
       "<style scoped>\n",
       "    .dataframe tbody tr th:only-of-type {\n",
       "        vertical-align: middle;\n",
       "    }\n",
       "\n",
       "    .dataframe tbody tr th {\n",
       "        vertical-align: top;\n",
       "    }\n",
       "\n",
       "    .dataframe thead th {\n",
       "        text-align: right;\n",
       "    }\n",
       "</style>\n",
       "<table border=\"1\" class=\"dataframe\">\n",
       "  <thead>\n",
       "    <tr style=\"text-align: right;\">\n",
       "      <th></th>\n",
       "      <th>CreditScore</th>\n",
       "      <th>Age</th>\n",
       "      <th>Tenure</th>\n",
       "      <th>Balance</th>\n",
       "      <th>NumOfProducts</th>\n",
       "      <th>HasCrCard</th>\n",
       "      <th>IsActiveMember</th>\n",
       "      <th>EstimatedSalary</th>\n",
       "      <th>Geography_Germany</th>\n",
       "      <th>Geography_Spain</th>\n",
       "      <th>Gender_Male</th>\n",
       "    </tr>\n",
       "  </thead>\n",
       "  <tbody>\n",
       "    <tr>\n",
       "      <th>5238</th>\n",
       "      <td>0.753887</td>\n",
       "      <td>-0.845717</td>\n",
       "      <td>-0.725914</td>\n",
       "      <td>0.759823</td>\n",
       "      <td>-0.893492</td>\n",
       "      <td>1</td>\n",
       "      <td>0</td>\n",
       "      <td>1.076681</td>\n",
       "      <td>0</td>\n",
       "      <td>0</td>\n",
       "      <td>1</td>\n",
       "    </tr>\n",
       "    <tr>\n",
       "      <th>784</th>\n",
       "      <td>1.002729</td>\n",
       "      <td>1.789258</td>\n",
       "      <td>0.724101</td>\n",
       "      <td>0.634341</td>\n",
       "      <td>-0.893492</td>\n",
       "      <td>1</td>\n",
       "      <td>1</td>\n",
       "      <td>1.572643</td>\n",
       "      <td>1</td>\n",
       "      <td>0</td>\n",
       "      <td>1</td>\n",
       "    </tr>\n",
       "    <tr>\n",
       "      <th>6541</th>\n",
       "      <td>1.013097</td>\n",
       "      <td>-0.375186</td>\n",
       "      <td>-0.000906</td>\n",
       "      <td>0.460392</td>\n",
       "      <td>-0.893492</td>\n",
       "      <td>1</td>\n",
       "      <td>1</td>\n",
       "      <td>0.865384</td>\n",
       "      <td>0</td>\n",
       "      <td>1</td>\n",
       "      <td>1</td>\n",
       "    </tr>\n",
       "    <tr>\n",
       "      <th>492</th>\n",
       "      <td>-0.117059</td>\n",
       "      <td>-0.092867</td>\n",
       "      <td>-0.363410</td>\n",
       "      <td>0.075528</td>\n",
       "      <td>0.807317</td>\n",
       "      <td>0</td>\n",
       "      <td>1</td>\n",
       "      <td>0.324444</td>\n",
       "      <td>0</td>\n",
       "      <td>0</td>\n",
       "      <td>0</td>\n",
       "    </tr>\n",
       "    <tr>\n",
       "      <th>534</th>\n",
       "      <td>-1.039847</td>\n",
       "      <td>0.095345</td>\n",
       "      <td>-0.000906</td>\n",
       "      <td>0.602856</td>\n",
       "      <td>-0.893492</td>\n",
       "      <td>1</td>\n",
       "      <td>0</td>\n",
       "      <td>-0.806007</td>\n",
       "      <td>0</td>\n",
       "      <td>0</td>\n",
       "      <td>0</td>\n",
       "    </tr>\n",
       "  </tbody>\n",
       "</table>\n",
       "</div>"
      ],
      "text/plain": [
       "      CreditScore       Age    Tenure   Balance  NumOfProducts  HasCrCard  \\\n",
       "5238     0.753887 -0.845717 -0.725914  0.759823      -0.893492          1   \n",
       "784      1.002729  1.789258  0.724101  0.634341      -0.893492          1   \n",
       "6541     1.013097 -0.375186 -0.000906  0.460392      -0.893492          1   \n",
       "492     -0.117059 -0.092867 -0.363410  0.075528       0.807317          0   \n",
       "534     -1.039847  0.095345 -0.000906  0.602856      -0.893492          1   \n",
       "\n",
       "      IsActiveMember  EstimatedSalary  Geography_Germany  Geography_Spain  \\\n",
       "5238               0         1.076681                  0                0   \n",
       "784                1         1.572643                  1                0   \n",
       "6541               1         0.865384                  0                1   \n",
       "492                1         0.324444                  0                0   \n",
       "534                0        -0.806007                  0                0   \n",
       "\n",
       "      Gender_Male  \n",
       "5238            1  \n",
       "784             1  \n",
       "6541            1  \n",
       "492             0  \n",
       "534             0  "
      ]
     },
     "execution_count": 139,
     "metadata": {},
     "output_type": "execute_result"
    }
   ],
   "source": [
    "#Проверю, что получилось. Прекрасно, можно учить модель.\n",
    "features_train.head()"
   ]
  },
  {
   "cell_type": "markdown",
   "metadata": {},
   "source": [
    "## Исследование задачи"
   ]
  },
  {
   "cell_type": "markdown",
   "metadata": {},
   "source": [
    "Изучу баланс классов во всех выборках  \n",
    "Везде схожая картина - положительных исходов ок. 20%. Очевиден дисбаланс классов."
   ]
  },
  {
   "cell_type": "code",
   "execution_count": null,
   "metadata": {},
   "outputs": [
    {
     "name": "stdout",
     "output_type": "stream",
     "text": [
      "0    0.796333\n",
      "1    0.203667\n",
      "Name: Exited, dtype: float64\n",
      "0    0.7965\n",
      "1    0.2035\n",
      "Name: Exited, dtype: float64\n"
     ]
    },
    {
     "data": {
      "text/plain": [
       "0    0.796\n",
       "1    0.204\n",
       "Name: Exited, dtype: float64"
      ]
     },
     "execution_count": 140,
     "metadata": {},
     "output_type": "execute_result"
    }
   ],
   "source": [
    "print(target_train.value_counts(normalize = True))\n",
    "print(target_valid.value_counts(normalize = True))\n",
    "target_test.value_counts(normalize = True)"
   ]
  },
  {
   "cell_type": "markdown",
   "metadata": {},
   "source": [
    "- Обучу модели Случайный Лес и Логистическая регрессия без корректировки баланса классов. Подберу оптимальные гиперпараметры. \n",
    "- Оценю точность, F1 меру и AUC-ROC. Выберу лучшую модель."
   ]
  },
  {
   "cell_type": "markdown",
   "metadata": {},
   "source": [
    "#### Блок модели Случайный Лес"
   ]
  },
  {
   "cell_type": "code",
   "execution_count": null,
   "metadata": {},
   "outputs": [
    {
     "name": "stdout",
     "output_type": "stream",
     "text": [
      "Оптимальная глубина =  11\n",
      "Оптимальное число деревьев =  31\n"
     ]
    }
   ],
   "source": [
    "best_model_RF = None\n",
    "best_depth = 1\n",
    "best_max_n_estimators = 20\n",
    "score_RF = 0\n",
    "for depth in range(1, 100):\n",
    "    model_RF = RandomForestClassifier(random_state=12345, n_estimators=20, max_depth=depth) #Для сходимости результатов зафиксирую случайность\n",
    "    model_RF.fit(features_train,target_train)\n",
    "    if model_RF.score(features_valid, target_valid) > score_RF:\n",
    "        score_RF = model_RF.score(features_valid, target_valid)\n",
    "        best_depth = depth\n",
    "print(\"Оптимальная глубина = \", best_depth)\n",
    "\n",
    "for estimators in range(1, 100):\n",
    "    model_RF = RandomForestClassifier(random_state=12345, n_estimators=estimators, max_depth=best_depth) #Для сходимости результатов зафиксирую случайность\n",
    "    model_RF.fit(features_train,target_train)\n",
    "    if model_RF.score(features_valid, target_valid) > score_RF:\n",
    "        score_RF = model_RF.score(features_valid, target_valid)\n",
    "        best_max_n_estimators = estimators \n",
    "        best_model_RF = model_RF\n",
    "print('Оптимальное число деревьев = ', best_max_n_estimators)"
   ]
  },
  {
   "cell_type": "markdown",
   "metadata": {},
   "source": [
    "#### Блок модели Логистическая Регрессия"
   ]
  },
  {
   "cell_type": "code",
   "execution_count": null,
   "metadata": {},
   "outputs": [
    {
     "name": "stdout",
     "output_type": "stream",
     "text": [
      "Оптимальное число итераций =  100\n"
     ]
    }
   ],
   "source": [
    "best_model_LR = None\n",
    "best_max_iter = 100\n",
    "score_LR = 0\n",
    "for iter in range(100, 1000):\n",
    "    model_LR = LogisticRegression(random_state=12345, max_iter=iter, solver='liblinear') #Для сходимости результатов зафиксирую случайность\n",
    "    model_LR.fit(features_train,target_train)\n",
    "    if model_LR.score(features_valid, target_valid) > score_LR:\n",
    "        score_LR = model_LR.score(features_valid, target_valid)\n",
    "        best_max_iter  = iter\n",
    "        best_model_LR = model_LR\n",
    "print(\"Оптимальное число итераций = \", best_max_iter)"
   ]
  },
  {
   "cell_type": "markdown",
   "metadata": {},
   "source": [
    "Пользовательская функиция для расчёта и вывода метрик моделей"
   ]
  },
  {
   "cell_type": "code",
   "execution_count": null,
   "metadata": {},
   "outputs": [],
   "source": [
    "def Control_Desc_func(model_name, model:object, target, features):\n",
    "    predictions = model.predict(features)\n",
    "    probabilities_one = model.predict_proba(features)[:,1] \n",
    "    print('_________________________________________________________________')\n",
    "    print('Метрики для модели', model_name)\n",
    "    print('Доля правильных ответов (Acccuracy) = ', model.score(features, target))\n",
    "    print('F1 Мера = ', f1_score(target, predictions).round(5))\n",
    "    print('Площадь под ROC кривой = ', roc_auc_score(target_test, probabilities_one).round(5))\n",
    "    print('Баланс классов в предсказании:')\n",
    "    print(pd.Series(predictions).value_counts(normalize=True))\n",
    "    print('_________________________________________________________________')"
   ]
  },
  {
   "cell_type": "markdown",
   "metadata": {},
   "source": [
    "#### Сравним результаты на тестовой выборке"
   ]
  },
  {
   "cell_type": "code",
   "execution_count": null,
   "metadata": {},
   "outputs": [
    {
     "name": "stdout",
     "output_type": "stream",
     "text": [
      "Справочно: баланс классов в тестовой выборке:\n",
      "0    0.796\n",
      "1    0.204\n",
      "Name: Exited, dtype: float64\n",
      "_________________________________________________________________\n",
      "Метрики для модели Логистическая регрессия\n",
      "Доля правильных ответов (Acccuracy) =  0.8195\n",
      "F1 Мера =  0.34483\n",
      "Площадь под ROC кривой =  0.75943\n",
      "Баланс классов в предсказании:\n",
      "0    0.9285\n",
      "1    0.0715\n",
      "dtype: float64\n",
      "_________________________________________________________________\n",
      "_________________________________________________________________\n",
      "Метрики для модели Случайный Лес\n",
      "Доля правильных ответов (Acccuracy) =  0.856\n",
      "F1 Мера =  0.53846\n",
      "Площадь под ROC кривой =  0.84484\n",
      "Баланс классов в предсказании:\n",
      "0    0.892\n",
      "1    0.108\n",
      "dtype: float64\n",
      "_________________________________________________________________\n"
     ]
    }
   ],
   "source": [
    "print(\"Справочно: баланс классов в тестовой выборке:\")\n",
    "print(target_test.value_counts(normalize = True))\n",
    "Control_Desc_func(model_name='Логистическая регрессия', model=best_model_LR, target=target_test, features=features_test)\n",
    "Control_Desc_func(model_name=\"Случайный Лес\", model=best_model_RF, target=target_test, features=features_test)"
   ]
  },
  {
   "cell_type": "code",
   "execution_count": null,
   "metadata": {},
   "outputs": [
    {
     "data": {
      "text/plain": [
       "array([[1544,   48],\n",
       "       [ 240,  168]], dtype=int64)"
      ]
     },
     "execution_count": 145,
     "metadata": {},
     "output_type": "execute_result"
    }
   ],
   "source": [
    "confusion_matrix(target_test,best_model_RF.predict(features_test))"
   ]
  },
  {
   "cell_type": "markdown",
   "metadata": {},
   "source": [
    "ВЫВОДЫ:\n",
    "- Модель Случайный Лес явно работает лучше: показывает и метрики выше и баланс классов ближе к реальному\n",
    "- Баланс классов у Случайнгого Леса явно не идеальный - более чем в 2 раза меньше доля редкого класса, чем в тестовой выборке\n",
    "- Единственно в чём Логиистическая регрессия лучше - быстродействие, но в нашей задаче разница не ощущается\n",
    "- Удалось получить неплохой показатель F1 мер, но до целевого уровня (0.59+) модель не дотягивает\n",
    "- Возможно, если выбрать модель Случайный лес подобраными гиперпараментрами и обучить её на данных с меньшим дисбалансом удастся добиться целевого уровня F1"
   ]
  },
  {
   "cell_type": "markdown",
   "metadata": {},
   "source": [
    "## Борьба с дисбалансом"
   ]
  },
  {
   "cell_type": "markdown",
   "metadata": {},
   "source": [
    "#### Блок пользовательских функций"
   ]
  },
  {
   "cell_type": "code",
   "execution_count": null,
   "metadata": {},
   "outputs": [],
   "source": [
    "# Функция для увеличения выборки по определённому классу (upsampling)\n",
    "def upsample(features, target, repeat): \n",
    "    features_zeros = features[target == 0] \n",
    "    features_ones = features[target == 1] \n",
    "    target_zeros = target[target == 0] \n",
    "    target_ones = target[target == 1] \n",
    " \n",
    "    features_upsampled = pd.concat([features_zeros] + [features_ones] * repeat) \n",
    "    target_upsampled = pd.concat([target_zeros] + [target_ones] * repeat) \n",
    "     \n",
    "    features_upsampled, target_upsampled = shuffle(features_upsampled, target_upsampled, random_state=12345) \n",
    "     \n",
    "    return features_upsampled, target_upsampled"
   ]
  },
  {
   "cell_type": "code",
   "execution_count": null,
   "metadata": {},
   "outputs": [],
   "source": [
    "# Функция для уменьшения выборки по определённому классу (downsampling)\n",
    "def downsample(features, target, fraction): \n",
    "    features_zeros = features[target == 0] \n",
    "    features_ones = features[target == 1] \n",
    "    target_zeros = target[target == 0] \n",
    "    target_ones = target[target == 1] \n",
    " \n",
    "    features_downsampled = pd.concat( \n",
    "        [features_zeros.sample(frac=fraction, random_state=12345)] + [features_ones]) \n",
    "    target_downsampled = pd.concat( \n",
    "        [target_zeros.sample(frac=fraction, random_state=12345)] + [target_ones]) \n",
    "     \n",
    "    features_downsampled, target_downsampled = shuffle(features_downsampled, target_downsampled, random_state=12345) \n",
    "     \n",
    "    return features_downsampled, target_downsampled"
   ]
  },
  {
   "cell_type": "markdown",
   "metadata": {},
   "source": [
    "#### Способ 1  \n",
    "Для начала попробую просто активировать учёт баланса классов при обучении модели  \n",
    "Активирую парараметр class_weight  "
   ]
  },
  {
   "cell_type": "code",
   "execution_count": null,
   "metadata": {},
   "outputs": [],
   "source": [
    "model_balance_RF_class_w = RandomForestClassifier(random_state=12345, max_depth=best_depth, n_estimators=best_max_n_estimators, class_weight='balanced')\n",
    "model_balance_RF_class_w.fit(features_train, target_train);"
   ]
  },
  {
   "cell_type": "markdown",
   "metadata": {},
   "source": [
    "#### Способ 2  \n",
    "Обучу модель на выборке с увеличенным количеством объектов класса 1 (метод upsampling)"
   ]
  },
  {
   "cell_type": "code",
   "execution_count": null,
   "metadata": {},
   "outputs": [
    {
     "name": "stdout",
     "output_type": "stream",
     "text": [
      "Кол-во записей в обучающей выборке: 6000\n",
      "Исходный баланс классов в обучающей выборке:\n"
     ]
    },
    {
     "data": {
      "text/plain": [
       "0    0.796\n",
       "1    0.204\n",
       "Name: Exited, dtype: float64"
      ]
     },
     "execution_count": 149,
     "metadata": {},
     "output_type": "execute_result"
    }
   ],
   "source": [
    "print('Кол-во записей в обучающей выборке:',len(target_train))\n",
    "print('Исходный баланс классов в обучающей выборке:')\n",
    "target_train.value_counts(normalize=True).round(3)"
   ]
  },
  {
   "cell_type": "markdown",
   "metadata": {},
   "source": [
    "Всего 6000 объектов, из них ок. 80% - это нули. Нужно приблизиться к балансу 50/50%.  \n",
    "Продублирую 4 раза признаки с классом 1, добавлю их в обучающаю выборку и перемешаю "
   ]
  },
  {
   "cell_type": "code",
   "execution_count": null,
   "metadata": {},
   "outputs": [],
   "source": [
    "features_train_upsample, target_train_upsample = upsample(target=target_train, features=features_train, repeat=4)"
   ]
  },
  {
   "cell_type": "code",
   "execution_count": null,
   "metadata": {},
   "outputs": [
    {
     "name": "stdout",
     "output_type": "stream",
     "text": [
      "Кол-во элементов в обучаюшей выборке 9666\n",
      "------------------------------------\n",
      "Кол-во элементов в целевом признаке обучаюшей выборки 9666\n",
      "Баланс классов в целевом признаке обучаюшей выборки: 1    0.506\n",
      "0    0.494\n",
      "Name: Exited, dtype: float64\n"
     ]
    }
   ],
   "source": [
    "features_train_upsample, target_train_upsample = upsample(target=target_train, features=features_train, repeat=4)\n",
    "#Проверка - Всё ОК\n",
    "print('Кол-во элементов в обучаюшей выборке',len(features_train_upsample))\n",
    "print('------------------------------------')\n",
    "print('Кол-во элементов в целевом признаке обучаюшей выборки',len(target_train_upsample))\n",
    "print('Баланс классов в целевом признаке обучаюшей выборки:',target_train_upsample.value_counts(normalize=True).round(3))"
   ]
  },
  {
   "cell_type": "code",
   "execution_count": null,
   "metadata": {},
   "outputs": [],
   "source": [
    "model_upsample = RandomForestClassifier(random_state=12345,max_depth=best_depth,n_estimators=best_max_n_estimators)\n",
    "model_upsample.fit(features_train_upsample, target_train_upsample);"
   ]
  },
  {
   "cell_type": "markdown",
   "metadata": {},
   "source": [
    "#### Способ 3  \n",
    "Обучу модель на выборке с уменьшенным количеством объектов класса 0 (метод downsampling)"
   ]
  },
  {
   "cell_type": "code",
   "execution_count": null,
   "metadata": {},
   "outputs": [
    {
     "name": "stdout",
     "output_type": "stream",
     "text": [
      "Кол-во элементов в обучаюшей выборке 2407\n",
      "------------------------------------\n",
      "Кол-во элементов в целевом признаке обучаюшей выборки 2407\n",
      "Баланс классов в целевом признаке обучаюшей выборки: 1    0.508\n",
      "0    0.492\n",
      "Name: Exited, dtype: float64\n"
     ]
    }
   ],
   "source": [
    "features_train_downsample, target_train_downsample = downsample(target=target_train,features=features_train,fraction=0.248)\n",
    "print('Кол-во элементов в обучаюшей выборке',len(features_train_downsample))\n",
    "print('------------------------------------')\n",
    "print('Кол-во элементов в целевом признаке обучаюшей выборки',len(target_train_downsample))\n",
    "print('Баланс классов в целевом признаке обучаюшей выборки:',target_train_downsample.value_counts(normalize=True).round(3))"
   ]
  },
  {
   "cell_type": "code",
   "execution_count": null,
   "metadata": {},
   "outputs": [],
   "source": [
    "model_downsample = RandomForestClassifier(random_state=12345,max_depth=best_depth,n_estimators=best_max_n_estimators)\n",
    "model_downsample.fit(features_train_downsample, target_train_downsample);"
   ]
  },
  {
   "cell_type": "code",
   "execution_count": null,
   "metadata": {},
   "outputs": [
    {
     "name": "stdout",
     "output_type": "stream",
     "text": [
      "Сравнение F1 меры моделей до и после корректировки классов\n",
      "----------------------------------------------------------\n",
      "Справочно исходная модель до балансировки классов 0.53846\n",
      "Модель 1 с опцией парараметр class_weight: 0.58824\n",
      "Модель 2 upsampling: 0.5932\n",
      "Модель 3 downsampling: 0.58039\n"
     ]
    }
   ],
   "source": [
    "print('Сравнение F1 меры моделей до и после корректировки классов')\n",
    "print('----------------------------------------------------------')\n",
    "print('Справочно исходная модель до балансировки классов', f1_score(target_test, best_model_RF.predict(features_test)).round(5))\n",
    "print('Модель 1 с опцией парараметр class_weight:', f1_score(target_test, model_balance_RF_class_w.predict(features_test)).round(5))\n",
    "print('Модель 2 upsampling:', f1_score(target_test, model_upsample.predict(features_test)).round(5))\n",
    "print('Модель 3 downsampling:', f1_score(target_test, model_downsample.predict(features_test)).round(5))"
   ]
  },
  {
   "cell_type": "markdown",
   "metadata": {},
   "source": [
    "ВЫВОД: Устранение дисбаланса классов в обучающей выборке даёт существенный прирост эффективности предсказаний  \n",
    "- Наиболее продуктивный метод - расширение обучающей выборки (upsampling)  \n",
    "- Интересно, что простое включение параметра class_weight даёт прирост очень близкий к upsampling  \n",
    "Детальное тестирование моделей в блоке ниже"
   ]
  },
  {
   "cell_type": "markdown",
   "metadata": {},
   "source": [
    "## Тестирование модели"
   ]
  },
  {
   "cell_type": "markdown",
   "metadata": {},
   "source": [
    "Сравню метрики моделей типа Случайный лес:  \n",
    "- А) Без учёта баланса классов\n",
    "- Б) С учётом баланса путём использования параментра class_weight при обучении модели\n",
    "- В) Модели обученной на выборке, с увеличенным количеством объектов класса 1 (метод upsampling)\n",
    "- Г) Модели обученной на выборке, с уменьшенным количеством объектов класса 0 (метод downsampling) "
   ]
  },
  {
   "cell_type": "code",
   "execution_count": null,
   "metadata": {},
   "outputs": [
    {
     "name": "stdout",
     "output_type": "stream",
     "text": [
      "Справочно: баланс классов в тестовой выборке:\n",
      "0    0.796\n",
      "1    0.204\n",
      "Name: Exited, dtype: float64\n"
     ]
    }
   ],
   "source": [
    "print(\"Справочно: баланс классов в тестовой выборке:\")\n",
    "print(target_test.value_counts(normalize = True))"
   ]
  },
  {
   "cell_type": "code",
   "execution_count": null,
   "metadata": {},
   "outputs": [
    {
     "name": "stdout",
     "output_type": "stream",
     "text": [
      "_________________________________________________________________\n",
      "Метрики для модели Случайный лес без учёта баланса классов\n",
      "Доля правильных ответов (Acccuracy) =  0.856\n",
      "F1 Мера =  0.53846\n",
      "Площадь под ROC кривой =  0.84484\n",
      "Баланс классов в предсказании:\n",
      "0    0.892\n",
      "1    0.108\n",
      "dtype: float64\n",
      "_________________________________________________________________\n",
      "_________________________________________________________________\n",
      "Метрики для модели Случайный лес с параметром class_weight при обучении модели\n",
      "Доля правильных ответов (Acccuracy) =  0.846\n",
      "F1 Мера =  0.58824\n",
      "Площадь под ROC кривой =  0.84431\n",
      "Баланс классов в предсказании:\n",
      "0    0.83\n",
      "1    0.17\n",
      "dtype: float64\n",
      "_________________________________________________________________\n"
     ]
    }
   ],
   "source": [
    "Control_Desc_func(model=best_model_RF,model_name='Случайный лес без учёта баланса классов',target=target_test,features=features_test)\n",
    "Control_Desc_func(model=model_balance_RF_class_w, model_name=\"Случайный лес с параметром class_weight при обучении модели\",target=target_test,features=features_test)"
   ]
  },
  {
   "cell_type": "code",
   "execution_count": null,
   "metadata": {},
   "outputs": [
    {
     "name": "stdout",
     "output_type": "stream",
     "text": [
      "_________________________________________________________________\n",
      "Метрики для модели Случайный лес upsample\n",
      "Доля правильных ответов (Acccuracy) =  0.8265\n",
      "F1 Мера =  0.5932\n",
      "Площадь под ROC кривой =  0.84576\n",
      "Баланс классов в предсказании:\n",
      "0    0.7775\n",
      "1    0.2225\n",
      "dtype: float64\n",
      "_________________________________________________________________\n",
      "_________________________________________________________________\n",
      "Метрики для модели Случайный лес downsample\n",
      "Доля правильных ответов (Acccuracy) =  0.786\n",
      "F1 Мера =  0.58039\n",
      "Площадь под ROC кривой =  0.83966\n",
      "Баланс классов в предсказании:\n",
      "0    0.694\n",
      "1    0.306\n",
      "dtype: float64\n",
      "_________________________________________________________________\n"
     ]
    }
   ],
   "source": [
    "Control_Desc_func(model=model_upsample,model_name='Случайный лес upsample',features=features_test,target=target_test)\n",
    "Control_Desc_func(model=model_downsample,model_name='Случайный лес downsample',features=features_test,target=target_test)"
   ]
  },
  {
   "cell_type": "markdown",
   "metadata": {},
   "source": [
    "ВЫВОД:  \n",
    "- Наилучшие результаты показала модель Случайный лес, обученненная на расширенной обучающей выборке с балансом классов ок. 50/50%\n",
    "- Удалось достичь показателей F1 = 0.5932 и AUC-ROC = 0.8457\n",
    "- Метрика AUC-ROC не сильно варьируется у 4 типов модели и не опускается ниже 0.839. \n",
    "Думаю, метрика больше показывает качество подготовки данных к обучению, чем баланс классов\n",
    "- Проработка баланса классов оказывает существенное влияние на метрику F1\n",
    "- Интересно, что простое включение параметра class_weight даёт результаты лучше, чем метод downsampling"
   ]
  },
  {
   "cell_type": "markdown",
   "metadata": {},
   "source": [
    "## Чек-лист готовности проекта"
   ]
  },
  {
   "cell_type": "markdown",
   "metadata": {},
   "source": [
    "Поставьте 'x' в выполненных пунктах. Далее нажмите Shift+Enter."
   ]
  },
  {
   "cell_type": "markdown",
   "metadata": {},
   "source": [
    "- [x]  Jupyter Notebook открыт\n",
    "- [x]  Весь код выполняется без ошибок\n",
    "- [x]  Ячейки с кодом расположены в порядке исполнения\n",
    "- [x]  Выполнен шаг 1: данные подготовлены\n",
    "- [x]  Выполнен шаг 2: задача исследована\n",
    "    - [x]  Исследован баланс классов\n",
    "    - [x]  Изучены модели без учёта дисбаланса\n",
    "    - [x]  Написаны выводы по результатам исследования\n",
    "- [x]  Выполнен шаг 3: учтён дисбаланс\n",
    "    - [x]  Применено несколько способов борьбы с дисбалансом\n",
    "    - [x]  Написаны выводы по результатам исследования\n",
    "- [x]  Выполнен шаг 4: проведено тестирование\n",
    "- [x]  Удалось достичь *F1*-меры не менее 0.59\n",
    "- [x]  Исследована метрика *AUC-ROC*"
   ]
  }
 ],
 "metadata": {
  "ExecuteTimeLog": [
   {
    "duration": 2907,
    "start_time": "2023-05-07T16:57:41.896Z"
   },
   {
    "duration": 81,
    "start_time": "2023-05-07T16:57:44.804Z"
   },
   {
    "duration": 27,
    "start_time": "2023-05-07T16:57:44.886Z"
   },
   {
    "duration": 6,
    "start_time": "2023-05-07T16:57:44.972Z"
   },
   {
    "duration": 13,
    "start_time": "2023-05-07T16:57:44.980Z"
   },
   {
    "duration": 21,
    "start_time": "2023-05-07T16:57:44.994Z"
   },
   {
    "duration": 66,
    "start_time": "2023-05-07T16:57:45.017Z"
   },
   {
    "duration": 8,
    "start_time": "2023-05-07T16:57:45.084Z"
   },
   {
    "duration": 81,
    "start_time": "2023-05-07T16:57:45.093Z"
   },
   {
    "duration": 11,
    "start_time": "2023-05-07T16:57:45.175Z"
   },
   {
    "duration": 14,
    "start_time": "2023-05-07T16:57:45.187Z"
   },
   {
    "duration": 59435,
    "start_time": "2023-05-07T16:57:45.202Z"
   },
   {
    "duration": 83835,
    "start_time": "2023-05-07T16:58:44.639Z"
   },
   {
    "duration": 5,
    "start_time": "2023-05-07T17:00:08.476Z"
   },
   {
    "duration": 447,
    "start_time": "2023-05-07T17:00:08.482Z"
   },
   {
    "duration": 3,
    "start_time": "2023-05-07T17:00:08.931Z"
   },
   {
    "duration": 20,
    "start_time": "2023-05-07T17:00:08.935Z"
   },
   {
    "duration": 437,
    "start_time": "2023-05-07T17:00:08.956Z"
   },
   {
    "duration": 6,
    "start_time": "2023-05-07T17:00:09.394Z"
   },
   {
    "duration": 13,
    "start_time": "2023-05-07T17:00:09.402Z"
   },
   {
    "duration": 541,
    "start_time": "2023-05-07T17:00:09.417Z"
   },
   {
    "duration": 14,
    "start_time": "2023-05-07T17:00:09.959Z"
   },
   {
    "duration": 205,
    "start_time": "2023-05-07T17:00:09.975Z"
   },
   {
    "duration": 4,
    "start_time": "2023-05-07T17:00:10.181Z"
   },
   {
    "duration": 172,
    "start_time": "2023-05-07T17:00:10.187Z"
   },
   {
    "duration": 170,
    "start_time": "2023-05-07T17:00:10.361Z"
   },
   {
    "duration": 1091,
    "start_time": "2023-05-09T18:06:30.581Z"
   },
   {
    "duration": 95,
    "start_time": "2023-05-09T18:06:31.673Z"
   },
   {
    "duration": 23,
    "start_time": "2023-05-09T18:06:31.769Z"
   },
   {
    "duration": 20,
    "start_time": "2023-05-09T18:06:31.793Z"
   },
   {
    "duration": 122,
    "start_time": "2023-05-09T18:06:31.815Z"
   },
   {
    "duration": 7,
    "start_time": "2023-05-09T18:06:31.939Z"
   },
   {
    "duration": 39,
    "start_time": "2023-05-09T18:06:31.948Z"
   },
   {
    "duration": 18,
    "start_time": "2023-05-09T18:06:31.989Z"
   },
   {
    "duration": 28,
    "start_time": "2023-05-09T18:06:32.008Z"
   },
   {
    "duration": 12,
    "start_time": "2023-05-09T18:06:32.038Z"
   },
   {
    "duration": 25,
    "start_time": "2023-05-09T18:06:32.052Z"
   },
   {
    "duration": 27,
    "start_time": "2023-05-09T18:06:32.078Z"
   },
   {
    "duration": 21,
    "start_time": "2023-05-09T18:06:32.107Z"
   },
   {
    "duration": 23,
    "start_time": "2023-05-09T18:06:32.130Z"
   },
   {
    "duration": 40,
    "start_time": "2023-05-09T18:06:32.154Z"
   },
   {
    "duration": 5,
    "start_time": "2023-05-09T18:06:32.195Z"
   },
   {
    "duration": 32,
    "start_time": "2023-05-09T18:06:32.201Z"
   },
   {
    "duration": 17,
    "start_time": "2023-05-09T18:06:32.234Z"
   },
   {
    "duration": 21,
    "start_time": "2023-05-09T18:06:32.252Z"
   },
   {
    "duration": 44002,
    "start_time": "2023-05-09T18:06:32.275Z"
   },
   {
    "duration": 102602,
    "start_time": "2023-05-09T18:07:16.279Z"
   },
   {
    "duration": 5,
    "start_time": "2023-05-09T18:08:58.973Z"
   },
   {
    "duration": 418,
    "start_time": "2023-05-09T18:08:58.979Z"
   },
   {
    "duration": 19,
    "start_time": "2023-05-09T18:08:59.398Z"
   },
   {
    "duration": 3,
    "start_time": "2023-05-09T18:08:59.419Z"
   },
   {
    "duration": 11,
    "start_time": "2023-05-09T18:08:59.423Z"
   },
   {
    "duration": 258,
    "start_time": "2023-05-09T18:08:59.435Z"
   },
   {
    "duration": 6,
    "start_time": "2023-05-09T18:08:59.694Z"
   },
   {
    "duration": 21,
    "start_time": "2023-05-09T18:08:59.701Z"
   },
   {
    "duration": 316,
    "start_time": "2023-05-09T18:08:59.724Z"
   },
   {
    "duration": 10,
    "start_time": "2023-05-09T18:09:00.041Z"
   },
   {
    "duration": 133,
    "start_time": "2023-05-09T18:09:00.052Z"
   },
   {
    "duration": 69,
    "start_time": "2023-05-09T18:09:00.187Z"
   },
   {
    "duration": 4,
    "start_time": "2023-05-09T18:09:00.258Z"
   },
   {
    "duration": 105,
    "start_time": "2023-05-09T18:09:00.272Z"
   },
   {
    "duration": 115,
    "start_time": "2023-05-09T18:09:00.379Z"
   }
  ],
  "kernelspec": {
   "display_name": "Python 3 (ipykernel)",
   "language": "python",
   "name": "python3"
  },
  "language_info": {
   "codemirror_mode": {
    "name": "ipython",
    "version": 3
   },
   "file_extension": ".py",
   "mimetype": "text/x-python",
   "name": "python",
   "nbconvert_exporter": "python",
   "pygments_lexer": "ipython3",
   "version": "3.10.9"
  },
  "toc": {
   "base_numbering": 1,
   "nav_menu": {},
   "number_sections": true,
   "sideBar": true,
   "skip_h1_title": true,
   "title_cell": "Содержание",
   "title_sidebar": "Contents",
   "toc_cell": true,
   "toc_position": {
    "height": "calc(100% - 180px)",
    "left": "10px",
    "top": "150px",
    "width": "165px"
   },
   "toc_section_display": true,
   "toc_window_display": true
  }
 },
 "nbformat": 4,
 "nbformat_minor": 2
}
